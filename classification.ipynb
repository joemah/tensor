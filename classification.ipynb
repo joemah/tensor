{
  "nbformat": 4,
  "nbformat_minor": 0,
  "metadata": {
    "colab": {
      "name": "classification",
      "provenance": [],
      "collapsed_sections": [],
      "include_colab_link": true
    },
    "kernelspec": {
      "name": "python3",
      "display_name": "Python 3"
    }
  },
  "cells": [
    {
      "cell_type": "markdown",
      "metadata": {
        "id": "view-in-github",
        "colab_type": "text"
      },
      "source": [
        "<a href=\"https://colab.research.google.com/github/joemah/tensor/blob/master/classification.ipynb\" target=\"_parent\"><img src=\"https://colab.research.google.com/assets/colab-badge.svg\" alt=\"Open In Colab\"/></a>"
      ]
    },
    {
      "cell_type": "code",
      "metadata": {
        "id": "2-CcyEyXPXds",
        "colab_type": "code",
        "colab": {
          "base_uri": "https://localhost:8080/",
          "height": 133
        },
        "outputId": "18e63c29-0014-4544-fb86-7bba6ec4cc72"
      },
      "source": [
        "from keras.datasets import reuters \n",
        "\n",
        "(train_data, train_labels), (test_data, test_labels) = reuters.load_data(num_words = 10000)"
      ],
      "execution_count": 3,
      "outputs": [
        {
          "output_type": "stream",
          "text": [
            "Using TensorFlow backend.\n"
          ],
          "name": "stderr"
        },
        {
          "output_type": "display_data",
          "data": {
            "text/html": [
              "<p style=\"color: red;\">\n",
              "The default version of TensorFlow in Colab will soon switch to TensorFlow 2.x.<br>\n",
              "We recommend you <a href=\"https://www.tensorflow.org/guide/migrate\" target=\"_blank\">upgrade</a> now \n",
              "or ensure your notebook will continue to use TensorFlow 1.x via the <code>%tensorflow_version 1.x</code> magic:\n",
              "<a href=\"https://colab.research.google.com/notebooks/tensorflow_version.ipynb\" target=\"_blank\">more info</a>.</p>\n"
            ],
            "text/plain": [
              "<IPython.core.display.HTML object>"
            ]
          },
          "metadata": {
            "tags": []
          }
        },
        {
          "output_type": "stream",
          "text": [
            "Downloading data from https://s3.amazonaws.com/text-datasets/reuters.npz\n",
            "2113536/2110848 [==============================] - 0s 0us/step\n"
          ],
          "name": "stdout"
        }
      ]
    },
    {
      "cell_type": "code",
      "metadata": {
        "id": "tQrDlDOUPydV",
        "colab_type": "code",
        "outputId": "a1e5e84e-e268-40d3-cc75-7b8631a133f5",
        "colab": {
          "base_uri": "https://localhost:8080/",
          "height": 555
        }
      },
      "source": [
        "train_data[10]"
      ],
      "execution_count": 4,
      "outputs": [
        {
          "output_type": "execute_result",
          "data": {
            "text/plain": [
              "[1,\n",
              " 245,\n",
              " 273,\n",
              " 207,\n",
              " 156,\n",
              " 53,\n",
              " 74,\n",
              " 160,\n",
              " 26,\n",
              " 14,\n",
              " 46,\n",
              " 296,\n",
              " 26,\n",
              " 39,\n",
              " 74,\n",
              " 2979,\n",
              " 3554,\n",
              " 14,\n",
              " 46,\n",
              " 4689,\n",
              " 4329,\n",
              " 86,\n",
              " 61,\n",
              " 3499,\n",
              " 4795,\n",
              " 14,\n",
              " 61,\n",
              " 451,\n",
              " 4329,\n",
              " 17,\n",
              " 12]"
            ]
          },
          "metadata": {
            "tags": []
          },
          "execution_count": 4
        }
      ]
    },
    {
      "cell_type": "code",
      "metadata": {
        "id": "tVRydpG7P9Kk",
        "colab_type": "code",
        "outputId": "7009c779-ea88-428d-a02b-60727e5e59b4",
        "colab": {
          "base_uri": "https://localhost:8080/",
          "height": 52
        }
      },
      "source": [
        "word_index = reuters.get_word_index()"
      ],
      "execution_count": 5,
      "outputs": [
        {
          "output_type": "stream",
          "text": [
            "Downloading data from https://s3.amazonaws.com/text-datasets/reuters_word_index.json\n",
            "557056/550378 [==============================] - 0s 0us/step\n"
          ],
          "name": "stdout"
        }
      ]
    },
    {
      "cell_type": "code",
      "metadata": {
        "id": "KThg0sdCQEs1",
        "colab_type": "code",
        "colab": {}
      },
      "source": [
        "#decoding back to words\n",
        "reverse_word_index = dict([(value, key) for (key, value) in word_index.items()])\n",
        "decoded_newswire = ' '.join([reverse_word_index.get(i - 3, '?') for i in train_data[0]])\n"
      ],
      "execution_count": 0,
      "outputs": []
    },
    {
      "cell_type": "code",
      "metadata": {
        "id": "c7v9IZtxRn43",
        "colab_type": "code",
        "colab": {
          "base_uri": "https://localhost:8080/",
          "height": 34
        },
        "outputId": "475464db-3a53-42b7-bf73-5a8e771e7366"
      },
      "source": [
        "train_labels[10]"
      ],
      "execution_count": 8,
      "outputs": [
        {
          "output_type": "execute_result",
          "data": {
            "text/plain": [
              "3"
            ]
          },
          "metadata": {
            "tags": []
          },
          "execution_count": 8
        }
      ]
    },
    {
      "cell_type": "code",
      "metadata": {
        "id": "xivuXXaDRvZx",
        "colab_type": "code",
        "colab": {}
      },
      "source": [
        "#preparing the data \n",
        "import numpy as np\n",
        "\n",
        "def vectorize_sequences(sequences, dimensions = 10000):\n",
        "  results = np.zeros((len(sequences), dimensions))\n",
        "  for i, sequence in enumerate(sequences):\n",
        "    results[i, sequence] = 1\n",
        "  return results"
      ],
      "execution_count": 0,
      "outputs": []
    },
    {
      "cell_type": "code",
      "metadata": {
        "id": "vJXVJwVNUMNA",
        "colab_type": "code",
        "colab": {}
      },
      "source": [
        "x_train = vectorize_sequences(train_data)\n",
        "x_test = vectorize_sequences(test_data)\n"
      ],
      "execution_count": 0,
      "outputs": []
    },
    {
      "cell_type": "code",
      "metadata": {
        "id": "o5xkgAXvUYdR",
        "colab_type": "code",
        "colab": {}
      },
      "source": [
        "\n",
        "def to_one_hot(labels, dimension= 46):\n",
        "  results = np.zeros((len(labels), dimension))\n",
        "  for i, label in enumerate(labels):\n",
        "    results[i, label] = 1\n",
        "  return results"
      ],
      "execution_count": 0,
      "outputs": []
    },
    {
      "cell_type": "code",
      "metadata": {
        "id": "SerJyqLtVMic",
        "colab_type": "code",
        "colab": {}
      },
      "source": [
        "onte_hot_train_labels  = to_one_hot(train_labels)\n",
        "one_hot_test_labels = to_one_hot(test_labels)"
      ],
      "execution_count": 0,
      "outputs": []
    },
    {
      "cell_type": "code",
      "metadata": {
        "id": "u00Bbw4pViU9",
        "colab_type": "code",
        "colab": {}
      },
      "source": [
        "from keras.utils.np_utils import to_categorical\n",
        "one_hot_train_labels = to_categorical(train_labels)\n",
        "one_hot_test_labels = to_categorical(test_labels)"
      ],
      "execution_count": 0,
      "outputs": []
    },
    {
      "cell_type": "code",
      "metadata": {
        "id": "LsUVZMBTV6R7",
        "colab_type": "code",
        "colab": {}
      },
      "source": [
        ""
      ],
      "execution_count": 0,
      "outputs": []
    },
    {
      "cell_type": "code",
      "metadata": {
        "id": "Jo_mY-bUWYtc",
        "colab_type": "code",
        "colab": {}
      },
      "source": [
        "from keras import models \n",
        "from  keras import layers\n",
        "\n",
        "model  = models.Sequential()\n",
        "model.add(layers.Dense(46, activation = 'relu', input_shape = (10000,)))\n",
        "model.add(layers.Dense(46, activation = 'relu'))\n",
        "model.add(layers.Dense(46, activation = 'softmax'))\n"
      ],
      "execution_count": 0,
      "outputs": []
    },
    {
      "cell_type": "code",
      "metadata": {
        "id": "Ya9ADBfNXX1V",
        "colab_type": "code",
        "colab": {}
      },
      "source": [
        "model.compile(optimizer='rmsprop', loss='categorical_crossentropy', metrics = ['accuracy'])\n"
      ],
      "execution_count": 0,
      "outputs": []
    },
    {
      "cell_type": "code",
      "metadata": {
        "id": "ErzeTyv8Xvlr",
        "colab_type": "code",
        "colab": {}
      },
      "source": [
        "x_val = x_train[:1000]\n",
        "partial_x_train = x_train[1000:]\n",
        "\n",
        "y_val = one_hot_train_labels[:1000]\n",
        "partial_y_train = one_hot_train_labels[1000:]\n",
        "\n"
      ],
      "execution_count": 0,
      "outputs": []
    },
    {
      "cell_type": "code",
      "metadata": {
        "id": "Vyx9KfZxYROE",
        "colab_type": "code",
        "colab": {
          "base_uri": "https://localhost:8080/",
          "height": 1000
        },
        "outputId": "59779f82-dc18-4b7d-a959-63a445cd0d6b"
      },
      "source": [
        "#training the model\n",
        "\n",
        "history = model.fit(partial_x_train, partial_y_train, epochs=20,\n",
        "                    batch_size = 512,\n",
        "                    validation_data = (x_val, y_val))"
      ],
      "execution_count": 24,
      "outputs": [
        {
          "output_type": "stream",
          "text": [
            "WARNING:tensorflow:From /usr/local/lib/python3.6/dist-packages/tensorflow_core/python/ops/math_grad.py:1424: where (from tensorflow.python.ops.array_ops) is deprecated and will be removed in a future version.\n",
            "Instructions for updating:\n",
            "Use tf.where in 2.0, which has the same broadcast rule as np.where\n",
            "WARNING:tensorflow:From /usr/local/lib/python3.6/dist-packages/keras/backend/tensorflow_backend.py:1033: The name tf.assign_add is deprecated. Please use tf.compat.v1.assign_add instead.\n",
            "\n",
            "WARNING:tensorflow:From /usr/local/lib/python3.6/dist-packages/keras/backend/tensorflow_backend.py:1020: The name tf.assign is deprecated. Please use tf.compat.v1.assign instead.\n",
            "\n",
            "WARNING:tensorflow:From /usr/local/lib/python3.6/dist-packages/keras/backend/tensorflow_backend.py:3005: The name tf.Session is deprecated. Please use tf.compat.v1.Session instead.\n",
            "\n",
            "Train on 7982 samples, validate on 1000 samples\n",
            "Epoch 1/20\n",
            "WARNING:tensorflow:From /usr/local/lib/python3.6/dist-packages/keras/backend/tensorflow_backend.py:190: The name tf.get_default_session is deprecated. Please use tf.compat.v1.get_default_session instead.\n",
            "\n",
            "WARNING:tensorflow:From /usr/local/lib/python3.6/dist-packages/keras/backend/tensorflow_backend.py:197: The name tf.ConfigProto is deprecated. Please use tf.compat.v1.ConfigProto instead.\n",
            "\n",
            "WARNING:tensorflow:From /usr/local/lib/python3.6/dist-packages/keras/backend/tensorflow_backend.py:207: The name tf.global_variables is deprecated. Please use tf.compat.v1.global_variables instead.\n",
            "\n",
            "WARNING:tensorflow:From /usr/local/lib/python3.6/dist-packages/keras/backend/tensorflow_backend.py:216: The name tf.is_variable_initialized is deprecated. Please use tf.compat.v1.is_variable_initialized instead.\n",
            "\n",
            "WARNING:tensorflow:From /usr/local/lib/python3.6/dist-packages/keras/backend/tensorflow_backend.py:223: The name tf.variables_initializer is deprecated. Please use tf.compat.v1.variables_initializer instead.\n",
            "\n",
            "7982/7982 [==============================] - 2s 200us/step - loss: 3.8119 - acc: 0.0663 - val_loss: 3.7980 - val_acc: 0.0460\n",
            "Epoch 2/20\n",
            "7982/7982 [==============================] - 1s 111us/step - loss: 3.7881 - acc: 0.0484 - val_loss: 3.7770 - val_acc: 0.0460\n",
            "Epoch 3/20\n",
            "7982/7982 [==============================] - 1s 112us/step - loss: 3.7676 - acc: 0.1532 - val_loss: 3.7570 - val_acc: 0.3530\n",
            "Epoch 4/20\n",
            "7982/7982 [==============================] - 1s 110us/step - loss: 3.7477 - acc: 0.3343 - val_loss: 3.7373 - val_acc: 0.2220\n",
            "Epoch 5/20\n",
            "7982/7982 [==============================] - 1s 112us/step - loss: 3.7280 - acc: 0.2200 - val_loss: 3.7177 - val_acc: 0.2220\n",
            "Epoch 6/20\n",
            "7982/7982 [==============================] - 1s 113us/step - loss: 3.7084 - acc: 0.2552 - val_loss: 3.6983 - val_acc: 0.2220\n",
            "Epoch 7/20\n",
            "7982/7982 [==============================] - 1s 109us/step - loss: 3.6890 - acc: 0.2375 - val_loss: 3.6791 - val_acc: 0.3530\n",
            "Epoch 8/20\n",
            "7982/7982 [==============================] - 1s 111us/step - loss: 3.6697 - acc: 0.3239 - val_loss: 3.6599 - val_acc: 0.3530\n",
            "Epoch 9/20\n",
            "7982/7982 [==============================] - 1s 111us/step - loss: 3.6506 - acc: 0.3130 - val_loss: 3.6409 - val_acc: 0.3530\n",
            "Epoch 10/20\n",
            "7982/7982 [==============================] - 1s 108us/step - loss: 3.6316 - acc: 0.3514 - val_loss: 3.6221 - val_acc: 0.3530\n",
            "Epoch 11/20\n",
            "7982/7982 [==============================] - 1s 110us/step - loss: 3.6128 - acc: 0.3153 - val_loss: 3.6033 - val_acc: 0.3530\n",
            "Epoch 12/20\n",
            "7982/7982 [==============================] - 1s 111us/step - loss: 3.5941 - acc: 0.3514 - val_loss: 3.5848 - val_acc: 0.3530\n",
            "Epoch 13/20\n",
            "7982/7982 [==============================] - 1s 109us/step - loss: 3.5756 - acc: 0.3514 - val_loss: 3.5665 - val_acc: 0.3530\n",
            "Epoch 14/20\n",
            "7982/7982 [==============================] - 1s 108us/step - loss: 3.5573 - acc: 0.3514 - val_loss: 3.5482 - val_acc: 0.3530\n",
            "Epoch 15/20\n",
            "7982/7982 [==============================] - 1s 109us/step - loss: 3.5390 - acc: 0.3514 - val_loss: 3.5301 - val_acc: 0.3530\n",
            "Epoch 16/20\n",
            "7982/7982 [==============================] - 1s 110us/step - loss: 3.5209 - acc: 0.3514 - val_loss: 3.5121 - val_acc: 0.3530\n",
            "Epoch 17/20\n",
            "7982/7982 [==============================] - 1s 115us/step - loss: 3.5030 - acc: 0.3514 - val_loss: 3.4942 - val_acc: 0.3530\n",
            "Epoch 18/20\n",
            "7982/7982 [==============================] - 1s 111us/step - loss: 3.4852 - acc: 0.3514 - val_loss: 3.4766 - val_acc: 0.3530\n",
            "Epoch 19/20\n",
            "7982/7982 [==============================] - 1s 112us/step - loss: 3.4676 - acc: 0.3514 - val_loss: 3.4590 - val_acc: 0.3530\n",
            "Epoch 20/20\n",
            "7982/7982 [==============================] - 1s 109us/step - loss: 3.4501 - acc: 0.3514 - val_loss: 3.4416 - val_acc: 0.3530\n"
          ],
          "name": "stdout"
        }
      ]
    },
    {
      "cell_type": "code",
      "metadata": {
        "id": "-qy0_VxZYvBE",
        "colab_type": "code",
        "colab": {}
      },
      "source": [
        ""
      ],
      "execution_count": 0,
      "outputs": []
    },
    {
      "cell_type": "code",
      "metadata": {
        "id": "9pvJ1HJVZYh_",
        "colab_type": "code",
        "colab": {
          "base_uri": "https://localhost:8080/",
          "height": 295
        },
        "outputId": "d53ad2cd-85d4-4747-909b-55f92c8101bf"
      },
      "source": [
        "#plotting training and validation loss\n",
        "\n",
        "import matplotlib.pyplot as plt\n",
        "\n",
        "loss =  history.history['loss']\n",
        "val_loss = history.history['val_loss']\n",
        "epochs = range(1, len(loss) + 1)\n",
        "plt.plot(epochs, loss, 'bo', label = 'training loss')\n",
        "plt.plot(epochs, val_loss, 'b', label = 'Validation loss')\n",
        "plt.title('training and validation loss')\n",
        "plt.xlabel('Epochs')\n",
        "plt.ylabel('Loss')\n",
        "plt.legend()\n",
        "plt.show\n",
        "\n",
        "plt.clf() #clears the figure\n",
        "\n",
        "acc = history.history['acc']\n",
        "val_acc = history.history['val_acc']\n",
        "plt.plot(epochs, acc, 'bo', label='Training acc')\n",
        "plt.plot(epochs, val_acc, 'b', label = 'Validation acc')\n",
        "plt.title('training and validation accuracy')\n",
        "plt.xlabel('Epochs')\n",
        "plt.ylabel('Loss')\n",
        "plt.legend()\n",
        "plt.show()"
      ],
      "execution_count": 27,
      "outputs": [
        {
          "output_type": "display_data",
          "data": {
            "image/png": "[encoded data removed]",
            "text/plain": [
              "<Figure size 432x288 with 1 Axes>"
            ]
          },
          "metadata": {
            "tags": []
          }
        }
      ]
    },
    {
      "cell_type": "code",
      "metadata": {
        "id": "ZUDpzvsbaT7U",
        "colab_type": "code",
        "colab": {}
      },
      "source": [
        ""
      ],
      "execution_count": 0,
      "outputs": []
    }
  ]
}